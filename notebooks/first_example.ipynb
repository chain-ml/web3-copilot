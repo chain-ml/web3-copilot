{
  "cells": [
    {
      "attachments": {},
      "cell_type": "markdown",
      "metadata": {
        "collapsed": false,
        "id": "uvwrWsXL4Wty"
      },
      "source": [
        "# First Example"
      ]
    },
    {
      "attachments": {},
      "cell_type": "markdown",
      "metadata": {
        "id": "K0Ht9MJD4ZSK"
      },
      "source": [
        "Install the council-ai library"
      ]
    },
    {
      "cell_type": "code",
      "execution_count": null,
      "metadata": {
        "id": "ZakRvEbO4cxv"
      },
      "outputs": [],
      "source": [
        "!pip install council-ai"
      ]
    },
    {
      "attachments": {},
      "cell_type": "markdown",
      "metadata": {
        "collapsed": false,
        "id": "tYXUZtDM4Wtz"
      },
      "source": [
        "Import Council."
      ]
    },
    {
      "cell_type": "code",
      "execution_count": null,
      "metadata": {
        "id": "IjLDn1vb4Wt0"
      },
      "outputs": [],
      "source": [
        "from council.chains import Chain\n",
        "from council.skills import LLMSkill\n",
        "from council.llm import OpenAILLM, OpenAILLMConfiguration\n"
      ]
    },
    {
      "attachments": {},
      "cell_type": "markdown",
      "metadata": {
        "collapsed": false,
        "id": "JY45dLaM4Wt1"
      },
      "source": [
        "Setup API keys and use it to setup the LLM (here: OpenAILLM)."
      ]
    },
    {
      "cell_type": "code",
      "execution_count": null,
      "metadata": {
        "id": "ifjaNjth4Wt1"
      },
      "outputs": [],
      "source": [
        "import os\n",
        "\n",
        "os.environ['OPENAI_API_KEY'] = 'your api key here'\n",
        "\n",
        "openai_llm = OpenAILLM(config=OpenAILLMConfiguration.from_env())\n"
      ]
    },
    {
      "attachments": {},
      "cell_type": "markdown",
      "metadata": {
        "collapsed": false,
        "id": "8Y4oH4ah4Wt1"
      },
      "source": [
        "Create your first Hello World Skill and Wrap it in a Chain.\n"
      ]
    },
    {
      "cell_type": "code",
      "execution_count": null,
      "metadata": {
        "id": "QlazcmF-4Wt1"
      },
      "outputs": [],
      "source": [
        "prompt = \"You are responding to every prompt with a short poem titled hello world\"\n",
        "hw_skill = LLMSkill(llm=openai_llm, system_prompt=prompt)\n",
        "hw_chain = Chain(name=\"Hello World\", description=\"Answers with a poem about titled Hello World\", runners=[hw_skill])\n"
      ]
    },
    {
      "attachments": {},
      "cell_type": "markdown",
      "metadata": {
        "collapsed": false,
        "id": "FBbSsMDg4Wt2"
      },
      "source": [
        "Create a second Skill (that responds only with Emojis).\n"
      ]
    },
    {
      "cell_type": "code",
      "execution_count": null,
      "metadata": {
        "id": "ZM1Nfn9d4Wt2"
      },
      "outputs": [],
      "source": [
        "prompt = \"You are responding to every prompt with an emoji that best addresses the question asked or statement made\"\n",
        "em_skill = LLMSkill(llm=openai_llm, system_prompt=prompt)\n",
        "em_chain = Chain(name=\"Emoji Agent\", description=\"Responds to every prompt with an emoji that best fits the prompt\",\n",
        "                 runners=[em_skill])"
      ]
    },
    {
      "attachments": {},
      "cell_type": "markdown",
      "metadata": {
        "collapsed": false,
        "id": "ejUfyCZE4Wt3"
      },
      "source": [
        "Create a Controller to route prompts to chains. Here we use the straight-forward LLMController in which an LLM instance is tasked to make a routing decision.\n"
      ]
    },
    {
      "cell_type": "code",
      "execution_count": null,
      "metadata": {
        "id": "sD0X0ha14Wt3"
      },
      "outputs": [],
      "source": [
        "from council.controllers import LLMController\n",
        "\n",
        "controller = LLMController(llm=openai_llm, response_threshold=5)\n"
      ]
    },
    {
      "attachments": {},
      "cell_type": "markdown",
      "metadata": {
        "collapsed": false,
        "id": "-09t-Qv04Wt3"
      },
      "source": [
        "Create an Evaluator. Here, we use an LLMEvaluator in which an LLM is tasked to evaluate each response received.\n"
      ]
    },
    {
      "cell_type": "code",
      "execution_count": null,
      "metadata": {
        "id": "VklPUZV_4Wt3"
      },
      "outputs": [],
      "source": [
        "from council.evaluators import LLMEvaluator\n",
        "\n",
        "evaluator = LLMEvaluator(llm=openai_llm)\n"
      ]
    },
    {
      "attachments": {},
      "cell_type": "markdown",
      "metadata": {
        "collapsed": false,
        "id": "tSrYbWEr4Wt4"
      },
      "source": [
        "Finalize setup of the Hello World first Agent by combining all components created.\n"
      ]
    },
    {
      "cell_type": "code",
      "execution_count": null,
      "metadata": {
        "id": "v5H-lFNb4Wt4"
      },
      "outputs": [],
      "source": [
        "from council.agents import Agent\n",
        "\n",
        "agent = Agent(controller=controller, chains=[hw_chain, em_chain], evaluator=evaluator)\n"
      ]
    },
    {
      "attachments": {},
      "cell_type": "markdown",
      "metadata": {
        "collapsed": false,
        "id": "Q4JI7HNY4Wt4"
      },
      "source": [
        "Now, we are ready to invoke the agent.\n"
      ]
    },
    {
      "cell_type": "code",
      "execution_count": null,
      "metadata": {
        "id": "acqUROT34Wt4"
      },
      "outputs": [],
      "source": [
        "result = agent.execute_from_user_message(\"hello world?!\")\n",
        "print(result.best_message.message)\n"
      ]
    },
    {
      "cell_type": "code",
      "execution_count": null,
      "metadata": {
        "id": "qhES_sEo49Gf"
      },
      "outputs": [],
      "source": []
    }
  ],
  "metadata": {
    "colab": {
      "provenance": []
    },
    "kernelspec": {
      "display_name": "Python 3",
      "language": "python",
      "name": "python3"
    },
    "language_info": {
      "codemirror_mode": {
        "name": "ipython",
        "version": 2
      },
      "file_extension": ".py",
      "mimetype": "text/x-python",
      "name": "python",
      "nbconvert_exporter": "python",
      "pygments_lexer": "ipython2",
      "version": "2.7.6"
    }
  },
  "nbformat": 4,
  "nbformat_minor": 0
}
